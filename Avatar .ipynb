{
 "cells": [
  {
   "cell_type": "markdown",
   "metadata": {},
   "source": [
    "# Análise de Avatar: The Last Airbender"
   ]
  },
  {
   "cell_type": "code",
   "execution_count": 1,
   "metadata": {},
   "outputs": [],
   "source": [
    "#Importando os Pacotes\n",
    "import pandas as pd\n",
    "import numpy as np\n",
    "import matplotlib as mpl\n",
    "import matplotlib.pyplot as plt"
   ]
  },
  {
   "cell_type": "code",
   "execution_count": 2,
   "metadata": {},
   "outputs": [],
   "source": [
    "#Carregando os dados\n",
    "#Se quiser aparecer o texto inteiro\n",
    "#pd.set_option(\"display.max_colwidth\", -1)\n",
    "avatar = pd.read_csv(\"https://raw.githubusercontent.com/rfordatascience/tidytuesday/master/data/2020/2020-08-11/avatar.csv\")"
   ]
  },
  {
   "cell_type": "code",
   "execution_count": 3,
   "metadata": {
    "scrolled": false
   },
   "outputs": [
    {
     "data": {
      "text/html": [
       "<div>\n",
       "<style scoped>\n",
       "    .dataframe tbody tr th:only-of-type {\n",
       "        vertical-align: middle;\n",
       "    }\n",
       "\n",
       "    .dataframe tbody tr th {\n",
       "        vertical-align: top;\n",
       "    }\n",
       "\n",
       "    .dataframe thead th {\n",
       "        text-align: right;\n",
       "    }\n",
       "</style>\n",
       "<table border=\"1\" class=\"dataframe\">\n",
       "  <thead>\n",
       "    <tr style=\"text-align: right;\">\n",
       "      <th></th>\n",
       "      <th>id</th>\n",
       "      <th>book</th>\n",
       "      <th>book_num</th>\n",
       "      <th>chapter</th>\n",
       "      <th>chapter_num</th>\n",
       "      <th>character</th>\n",
       "      <th>full_text</th>\n",
       "      <th>character_words</th>\n",
       "      <th>writer</th>\n",
       "      <th>director</th>\n",
       "      <th>imdb_rating</th>\n",
       "    </tr>\n",
       "  </thead>\n",
       "  <tbody>\n",
       "    <tr>\n",
       "      <th>0</th>\n",
       "      <td>1</td>\n",
       "      <td>Water</td>\n",
       "      <td>1</td>\n",
       "      <td>The Boy in the Iceberg</td>\n",
       "      <td>1</td>\n",
       "      <td>Katara</td>\n",
       "      <td>Water. Earth. Fire. Air. My grandmother used t...</td>\n",
       "      <td>Water. Earth. Fire. Air. My grandmother used t...</td>\n",
       "      <td>‎Michael Dante DiMartino, Bryan Konietzko, Aar...</td>\n",
       "      <td>Dave Filoni</td>\n",
       "      <td>8.1</td>\n",
       "    </tr>\n",
       "    <tr>\n",
       "      <th>1</th>\n",
       "      <td>2</td>\n",
       "      <td>Water</td>\n",
       "      <td>1</td>\n",
       "      <td>The Boy in the Iceberg</td>\n",
       "      <td>1</td>\n",
       "      <td>Scene Description</td>\n",
       "      <td>As the title card fades, the scene opens onto ...</td>\n",
       "      <td>NaN</td>\n",
       "      <td>‎Michael Dante DiMartino, Bryan Konietzko, Aar...</td>\n",
       "      <td>Dave Filoni</td>\n",
       "      <td>8.1</td>\n",
       "    </tr>\n",
       "  </tbody>\n",
       "</table>\n",
       "</div>"
      ],
      "text/plain": [
       "   id   book  book_num                 chapter  chapter_num  \\\n",
       "0   1  Water         1  The Boy in the Iceberg            1   \n",
       "1   2  Water         1  The Boy in the Iceberg            1   \n",
       "\n",
       "           character                                          full_text  \\\n",
       "0             Katara  Water. Earth. Fire. Air. My grandmother used t...   \n",
       "1  Scene Description  As the title card fades, the scene opens onto ...   \n",
       "\n",
       "                                     character_words  \\\n",
       "0  Water. Earth. Fire. Air. My grandmother used t...   \n",
       "1                                                NaN   \n",
       "\n",
       "                                              writer     director  imdb_rating  \n",
       "0  ‎Michael Dante DiMartino, Bryan Konietzko, Aar...  Dave Filoni          8.1  \n",
       "1  ‎Michael Dante DiMartino, Bryan Konietzko, Aar...  Dave Filoni          8.1  "
      ]
     },
     "execution_count": 3,
     "metadata": {},
     "output_type": "execute_result"
    }
   ],
   "source": [
    "avatar.head(2)\n"
   ]
  },
  {
   "cell_type": "code",
   "execution_count": 4,
   "metadata": {},
   "outputs": [],
   "source": [
    "#!pip install dataframe_image\n",
    "import dataframe_image as dfi"
   ]
  },
  {
   "cell_type": "markdown",
   "metadata": {},
   "source": [
    "## Análise dos dados\n",
    "\n",
    "### Quais os personagens com mais falas durante o programa?"
   ]
  },
  {
   "cell_type": "code",
   "execution_count": 5,
   "metadata": {},
   "outputs": [],
   "source": [
    "#Quais os personagens com mais falas durante o programa\n",
    "falas_personagens = avatar[avatar['character'] != 'Scene Description']\\\n",
    "    [['character','full_text']].\\\n",
    "    groupby(\"character\").\\\n",
    "    count().\\\n",
    "    sort_values(by = 'full_text',ascending=False).\\\n",
    "    head(5).\\\n",
    "    reset_index().\\\n",
    "    rename(columns={'full_text':'Número de falas','character' : 'Personagem'})\n",
    "\n",
    "dfi.export(falas_personagens,\"falas_personagens.png\")"
   ]
  },
  {
   "cell_type": "markdown",
   "metadata": {},
   "source": [
    "### Episódios favoritos pela crítica"
   ]
  },
  {
   "cell_type": "code",
   "execution_count": 6,
   "metadata": {},
   "outputs": [],
   "source": [
    "#episódios favoritos do público\n",
    "ep_favoritos = avatar[['chapter','book_num',\"chapter_num\",'imdb_rating']].drop_duplicates().\\\n",
    "    sort_values('imdb_rating',ascending = False).\\\n",
    "    head(10).\\\n",
    "    rename(columns={'chapter':'Nome',\n",
    "                    'imdb_rating' : 'Nota IMDB',\n",
    "                    'book_num': 'Livro',\n",
    "                    'chapter_num':'Episódio'})\n",
    "\n",
    "dfi.export(ep_favoritos,\"ep_favoritos.png\")"
   ]
  },
  {
   "cell_type": "markdown",
   "metadata": {},
   "source": [
    "### Episódios em que a palavra \"repolho\" é dita"
   ]
  },
  {
   "cell_type": "code",
   "execution_count": 7,
   "metadata": {},
   "outputs": [
    {
     "name": "stderr",
     "output_type": "stream",
     "text": [
      "C:\\Users\\Windows 10\\anaconda3\\lib\\site-packages\\pandas\\core\\indexing.py:670: SettingWithCopyWarning: \n",
      "A value is trying to be set on a copy of a slice from a DataFrame\n",
      "\n",
      "See the caveats in the documentation: https://pandas.pydata.org/pandas-docs/stable/user_guide/indexing.html#returning-a-view-versus-a-copy\n",
      "  iloc._setitem_with_indexer(indexer, value)\n"
     ]
    }
   ],
   "source": [
    "#Criando variável referente ao livro e episódio junto\n",
    "avatar['book_chapter'] = avatar.apply(lambda x: '.'.join([str(x['book_num']),str(x['chapter_num'])]),axis=1)\n",
    "\n",
    "#Criando a variável refente se há a citação da palavra repolho na fala\n",
    "avatar = avatar.assign(repolho = lambda x: (x['full_text'].str.contains(\"Cabbage \")| x['full_text'].str.contains(\" cabbage \"))) \n",
    "\n",
    "#Vendo em quais episódios há a citação da palavra repolho\n",
    "falas_repolho = avatar[avatar['repolho']]['book_chapter'].drop_duplicates()\n",
    "\n",
    "#pegando o index dos episódios em que se fala repolho\n",
    "index_cabbage = avatar[avatar['book_chapter'].isin(falas_repolho)]['repolho'].index\n",
    "\n",
    "#Adicionando 1 para todo episódio que há a citação da palavra repolho\n",
    "avatar['repolho'].loc[index_cabbage] = index_cabbage/index_cabbage\n",
    "\n",
    "#Transformando em numerico\n",
    "avatar['repolho'] = pd.to_numeric(avatar['repolho'])"
   ]
  },
  {
   "cell_type": "code",
   "execution_count": 8,
   "metadata": {},
   "outputs": [
    {
     "data": {
      "text/plain": [
       "Int64Index([  982,   983,   984,   985,   986,   987,   988,   989,   990,\n",
       "              991,\n",
       "            ...\n",
       "            12735, 12736, 12737, 12738, 12739, 12740, 12741, 12742, 12743,\n",
       "            12744],\n",
       "           dtype='int64', length=1512)"
      ]
     },
     "execution_count": 8,
     "metadata": {},
     "output_type": "execute_result"
    }
   ],
   "source": [
    "index_cabbage"
   ]
  },
  {
   "cell_type": "code",
   "execution_count": 9,
   "metadata": {
    "scrolled": false
   },
   "outputs": [
    {
     "name": "stderr",
     "output_type": "stream",
     "text": [
      "<ipython-input-9-4212a6d749a4>:10: UserWarning: FixedFormatter should only be used together with FixedLocator\n",
      "  axis.set_yticklabels(['0','1','2','3'])\n"
     ]
    },
    {
     "data": {
      "image/png": "[encoded data removed]",
      "text/plain": [
       "<Figure size 936x216 with 1 Axes>"
      ]
     },
     "metadata": {
      "needs_background": "light"
     },
     "output_type": "display_data"
    }
   ],
   "source": [
    "#gráfico dos repolhos\n",
    "#transforma em matrix onde os livros são as linhas e os episódios, as colunas\n",
    "cabbage_matrix = avatar.pivot_table('repolho',['book_num'],'chapter_num')\n",
    "fig,axis = plt.subplots(figsize=(13,3),sharex=True)\n",
    "plt.imshow(cabbage_matrix, alpha=0.8, cmap='Greens')\n",
    "plt.xlabel('Episódio', size = 20)\n",
    "plt.ylabel('Livro', size = 20)\n",
    "plt.title('Episódios em que a palavra \"Repolho\" é dita', size = 20)\n",
    "plt.xticks(range(0,21))\n",
    "axis.set_yticklabels(['0','1','2','3'])\n",
    "axis.set_xticklabels(range(1,22))\n",
    "#salva o gráfico\n",
    "plt.savefig('cabbage_avatar.png')"
   ]
  },
  {
   "cell_type": "markdown",
   "metadata": {},
   "source": [
    "### Episódios em que a palavra \"chá\" é dita"
   ]
  },
  {
   "cell_type": "code",
   "execution_count": 10,
   "metadata": {
    "scrolled": false
   },
   "outputs": [
    {
     "name": "stderr",
     "output_type": "stream",
     "text": [
      "<ipython-input-10-e44cf24239c4>:12: SettingWithCopyWarning: \n",
      "A value is trying to be set on a copy of a slice from a DataFrame\n",
      "\n",
      "See the caveats in the documentation: https://pandas.pydata.org/pandas-docs/stable/user_guide/indexing.html#returning-a-view-versus-a-copy\n",
      "  avatar['tea'].iloc._setitem_with_indexer(index_tea, index_tea/index_tea)\n"
     ]
    }
   ],
   "source": [
    "#Criando a variável refente se há a citação da palavra repolho na fala\n",
    "avatar = avatar.assign(tea = lambda x: (x['full_text'].str.contains(\"Tea \") | x['full_text'].str.contains(\" tea \"))) \n",
    "\n",
    "#Vendo em quais episódios há a citação da palavra repolho\n",
    "falas_tea = avatar[avatar['tea']]['book_chapter'].drop_duplicates()\n",
    "\n",
    "#pegando o index dos episódios em que se fala repolho\n",
    "index_tea = avatar[avatar['book_chapter'].isin(falas_tea)]['tea'].index\n",
    "\n",
    "#Adicionando 1 para todo episódio que há a citação da palavra repolho\n",
    "#avatar['tea'].iloc[index_tea] = index_tea/index_tea\n",
    "avatar['tea'].iloc._setitem_with_indexer(index_tea, index_tea/index_tea)\n",
    "\n",
    "#Transformando em numerico\n",
    "avatar['tea'] = pd.to_numeric(avatar['tea'])"
   ]
  },
  {
   "cell_type": "code",
   "execution_count": 11,
   "metadata": {},
   "outputs": [
    {
     "data": {
      "text/plain": [
       "Int64Index([  405,   406,   407,   408,   409,   410,   411,   412,   413,\n",
       "              414,\n",
       "            ...\n",
       "            13375, 13376, 13377, 13378, 13379, 13380, 13381, 13382, 13383,\n",
       "            13384],\n",
       "           dtype='int64', length=5216)"
      ]
     },
     "execution_count": 11,
     "metadata": {},
     "output_type": "execute_result"
    }
   ],
   "source": [
    "index_tea"
   ]
  },
  {
   "cell_type": "code",
   "execution_count": 12,
   "metadata": {
    "scrolled": true
   },
   "outputs": [
    {
     "name": "stderr",
     "output_type": "stream",
     "text": [
      "<ipython-input-12-8a70f01c61b7>:10: UserWarning: FixedFormatter should only be used together with FixedLocator\n",
      "  axis.set_yticklabels(['0','1','2','3'])\n"
     ]
    },
    {
     "data": {
      "image/png": "[encoded data removed]",
      "text/plain": [
       "<Figure size 936x216 with 1 Axes>"
      ]
     },
     "metadata": {
      "needs_background": "light"
     },
     "output_type": "display_data"
    }
   ],
   "source": [
    "#gráfico chá\n",
    "#transforma em matrix onde os livros são as linhas e os episódios, as colunas\n",
    "tea_matrix = avatar.pivot_table('tea',['book_num'],'chapter_num')\n",
    "fig,axis = plt.subplots(figsize=(13,3),sharex=True)\n",
    "plt.imshow(tea_matrix, alpha=0.8, cmap='Greens')\n",
    "plt.xlabel('Episódio', size = 20)\n",
    "plt.ylabel('Livro', size = 20)\n",
    "plt.title('Episódios em que a palavra \"Chá\" é dita', size = 20)\n",
    "plt.xticks(range(0,21))\n",
    "axis.set_yticklabels(['0','1','2','3'])\n",
    "axis.set_xticklabels(range(1,22))\n",
    "#salva o gráfico\n",
    "plt.savefig('tea_avatar.png')"
   ]
  },
  {
   "cell_type": "code",
   "execution_count": 13,
   "metadata": {},
   "outputs": [
    {
     "data": {
      "text/html": [
       "<div>\n",
       "<style scoped>\n",
       "    .dataframe tbody tr th:only-of-type {\n",
       "        vertical-align: middle;\n",
       "    }\n",
       "\n",
       "    .dataframe tbody tr th {\n",
       "        vertical-align: top;\n",
       "    }\n",
       "\n",
       "    .dataframe thead th {\n",
       "        text-align: right;\n",
       "    }\n",
       "</style>\n",
       "<table border=\"1\" class=\"dataframe\">\n",
       "  <thead>\n",
       "    <tr style=\"text-align: right;\">\n",
       "      <th></th>\n",
       "      <th>book_num</th>\n",
       "      <th>perc Chá dita</th>\n",
       "    </tr>\n",
       "  </thead>\n",
       "  <tbody>\n",
       "    <tr>\n",
       "      <th>0</th>\n",
       "      <td>1</td>\n",
       "      <td>0.19</td>\n",
       "    </tr>\n",
       "    <tr>\n",
       "      <th>1</th>\n",
       "      <td>2</td>\n",
       "      <td>0.68</td>\n",
       "    </tr>\n",
       "    <tr>\n",
       "      <th>2</th>\n",
       "      <td>3</td>\n",
       "      <td>0.31</td>\n",
       "    </tr>\n",
       "  </tbody>\n",
       "</table>\n",
       "</div>"
      ],
      "text/plain": [
       "   book_num  perc Chá dita\n",
       "0         1           0.19\n",
       "1         2           0.68\n",
       "2         3           0.31"
      ]
     },
     "execution_count": 13,
     "metadata": {},
     "output_type": "execute_result"
    }
   ],
   "source": [
    "avatar[['book_num','tea']].\\\n",
    "    groupby('book_num').mean().\\\n",
    "    round(2).\\\n",
    "    reset_index().\\\n",
    "    rename(columns={'imdb_rating':'Nota IMDB','tea' : 'perc Chá dita'})"
   ]
  },
  {
   "cell_type": "markdown",
   "metadata": {},
   "source": [
    "### Avaliação do episódio pelo IMDB"
   ]
  },
  {
   "cell_type": "code",
   "execution_count": 14,
   "metadata": {
    "scrolled": false
   },
   "outputs": [
    {
     "name": "stderr",
     "output_type": "stream",
     "text": [
      "<ipython-input-14-a008edae59fe>:11: UserWarning: FixedFormatter should only be used together with FixedLocator\n",
      "  axis.set_yticklabels(['0','1','2','3'])\n"
     ]
    },
    {
     "data": {
      "image/png": "[encoded data removed]",
      "text/plain": [
       "<Figure size 936x216 with 2 Axes>"
      ]
     },
     "metadata": {
      "needs_background": "light"
     },
     "output_type": "display_data"
    }
   ],
   "source": [
    "#gráfico da avaliação do episódio\n",
    "avatar['imdb_rating'] = avatar['imdb_rating'] .fillna(avatar['imdb_rating'].mean())\n",
    "a = avatar.pivot_table('imdb_rating',['book_num'],'chapter_num')\n",
    "fig,axis = plt.subplots(figsize=(13,3),sharex=True)\n",
    "plt.imshow(a, alpha=0.8, cmap='Greens')\n",
    "plt.xlabel('Episódio', size = 20)\n",
    "plt.ylabel('Livro', size = 20)\n",
    "plt.title('Avaliação dos episódios de Avatar: A Lenda de Aang pelo IMDB', size = 20)\n",
    "plt.xticks(range(0,21))\n",
    "plt.colorbar()\n",
    "axis.set_yticklabels(['0','1','2','3'])\n",
    "axis.set_xticklabels(range(1,22))\n",
    "plt.savefig('imdb_avatar.png')"
   ]
  },
  {
   "cell_type": "code",
   "execution_count": 15,
   "metadata": {
    "scrolled": true
   },
   "outputs": [],
   "source": [
    "#Nota média dos episódios por livro\n",
    "nota_livro = avatar[['book_num','imdb_rating']].\\\n",
    "    groupby('book_num').mean().\\\n",
    "    round(2).\\\n",
    "    reset_index().\\\n",
    "    rename(columns={'imdb_rating':'Nota média IMDB','book_num' : 'Livro'})\n",
    "\n",
    "dfi.export(nota_livro,\"nota_livro.png\")"
   ]
  },
  {
   "cell_type": "code",
   "execution_count": 16,
   "metadata": {},
   "outputs": [],
   "source": [
    "scene = pd.read_csv(\"https://raw.githubusercontent.com/rfordatascience/tidytuesday/master/data/2020/2020-08-11/scene_description.csv\")"
   ]
  },
  {
   "cell_type": "code",
   "execution_count": 17,
   "metadata": {},
   "outputs": [
    {
     "data": {
      "text/html": [
       "<div>\n",
       "<style scoped>\n",
       "    .dataframe tbody tr th:only-of-type {\n",
       "        vertical-align: middle;\n",
       "    }\n",
       "\n",
       "    .dataframe tbody tr th {\n",
       "        vertical-align: top;\n",
       "    }\n",
       "\n",
       "    .dataframe thead th {\n",
       "        text-align: right;\n",
       "    }\n",
       "</style>\n",
       "<table border=\"1\" class=\"dataframe\">\n",
       "  <thead>\n",
       "    <tr style=\"text-align: right;\">\n",
       "      <th></th>\n",
       "      <th>id</th>\n",
       "      <th>scene_description</th>\n",
       "    </tr>\n",
       "  </thead>\n",
       "  <tbody>\n",
       "    <tr>\n",
       "      <th>10</th>\n",
       "      <td>21</td>\n",
       "      <td>[He waves his hands, mockingly imitating water...</td>\n",
       "    </tr>\n",
       "    <tr>\n",
       "      <th>33</th>\n",
       "      <td>49</td>\n",
       "      <td>[He looks at the tile in his hand, depicting t...</td>\n",
       "    </tr>\n",
       "    <tr>\n",
       "      <th>34</th>\n",
       "      <td>49</td>\n",
       "      <td>[He places it on a tile carrying the symbol of...</td>\n",
       "    </tr>\n",
       "    <tr>\n",
       "      <th>65</th>\n",
       "      <td>84</td>\n",
       "      <td>[Aang airbends himself onto Appa.]</td>\n",
       "    </tr>\n",
       "    <tr>\n",
       "      <th>133</th>\n",
       "      <td>178</td>\n",
       "      <td>[He jumps at a penguin, but the animal evades ...</td>\n",
       "    </tr>\n",
       "    <tr>\n",
       "      <th>...</th>\n",
       "      <td>...</td>\n",
       "      <td>...</td>\n",
       "    </tr>\n",
       "    <tr>\n",
       "      <th>7417</th>\n",
       "      <td>13045</td>\n",
       "      <td>[Kyoshi enters the Avatar State briefly and be...</td>\n",
       "    </tr>\n",
       "    <tr>\n",
       "      <th>7418</th>\n",
       "      <td>13045</td>\n",
       "      <td>[Cut to side-view of Kyoshi as she uses airben...</td>\n",
       "    </tr>\n",
       "    <tr>\n",
       "      <th>7431</th>\n",
       "      <td>13053</td>\n",
       "      <td>[Zooms in on the firebender.]</td>\n",
       "    </tr>\n",
       "    <tr>\n",
       "      <th>7578</th>\n",
       "      <td>13299</td>\n",
       "      <td>[She moves Sokka out of the way, spits into he...</td>\n",
       "    </tr>\n",
       "    <tr>\n",
       "      <th>7582</th>\n",
       "      <td>13308</td>\n",
       "      <td>[Toph starts crying and the firebenders run aw...</td>\n",
       "    </tr>\n",
       "  </tbody>\n",
       "</table>\n",
       "<p>139 rows × 2 columns</p>\n",
       "</div>"
      ],
      "text/plain": [
       "         id                                  scene_description\n",
       "10       21  [He waves his hands, mockingly imitating water...\n",
       "33       49  [He looks at the tile in his hand, depicting t...\n",
       "34       49  [He places it on a tile carrying the symbol of...\n",
       "65       84                 [Aang airbends himself onto Appa.]\n",
       "133     178  [He jumps at a penguin, but the animal evades ...\n",
       "...     ...                                                ...\n",
       "7417  13045  [Kyoshi enters the Avatar State briefly and be...\n",
       "7418  13045  [Cut to side-view of Kyoshi as she uses airben...\n",
       "7431  13053                      [Zooms in on the firebender.]\n",
       "7578  13299  [She moves Sokka out of the way, spits into he...\n",
       "7582  13308  [Toph starts crying and the firebenders run aw...\n",
       "\n",
       "[139 rows x 2 columns]"
      ]
     },
     "execution_count": 17,
     "metadata": {},
     "output_type": "execute_result"
    }
   ],
   "source": [
    "scene[scene.assign(bend = lambda x: (x['scene_description'].str.contains(\"Bending \")\\\n",
    "                                     | x['scene_description'].str.contains(\"bending\")\\\n",
    "                                     | x['scene_description'].str.contains(\"Bend \")\\\n",
    "                                     | x['scene_description'].str.contains(\"bend\")))['bend']]"
   ]
  }
 ],
 "metadata": {
  "kernelspec": {
   "display_name": "Python 3",
   "language": "python",
   "name": "python3"
  },
  "language_info": {
   "codemirror_mode": {
    "name": "ipython",
    "version": 3
   },
   "file_extension": ".py",
   "mimetype": "text/x-python",
   "name": "python",
   "nbconvert_exporter": "python",
   "pygments_lexer": "ipython3",
   "version": "3.8.5"
  }
 },
 "nbformat": 4,
 "nbformat_minor": 4
}
